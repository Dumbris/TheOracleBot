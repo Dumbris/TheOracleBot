{
 "cells": [
  {
   "cell_type": "markdown",
   "metadata": {},
   "source": [
    "# Env "
   ]
  },
  {
   "cell_type": "code",
   "execution_count": 1,
   "metadata": {
    "scrolled": true
   },
   "outputs": [
    {
     "name": "stdout",
     "output_type": "stream",
     "text": [
      "/Users/svo6059/PycharmProjects/CISS_Project\n"
     ]
    }
   ],
   "source": [
    "cd .."
   ]
  },
  {
   "cell_type": "markdown",
   "metadata": {},
   "source": [
    "## Imports "
   ]
  },
  {
   "cell_type": "code",
   "execution_count": 24,
   "metadata": {},
   "outputs": [],
   "source": [
    "from project.preprocessing.generator import glove_generator"
   ]
  },
  {
   "cell_type": "code",
   "execution_count": 2,
   "metadata": {},
   "outputs": [],
   "source": [
    "from sklearn.manifold import TSNE\n",
    "from sklearn.linear_model import LogisticRegression\n",
    "from sklearn.base import TransformerMixin"
   ]
  },
  {
   "cell_type": "code",
   "execution_count": 3,
   "metadata": {},
   "outputs": [],
   "source": [
    "import json\n",
    "import pandas as pd\n",
    "from sklearn.decomposition import PCA"
   ]
  },
  {
   "cell_type": "code",
   "execution_count": 25,
   "metadata": {},
   "outputs": [],
   "source": [
    "import matplotlib.pyplot as plt\n",
    "import seaborn as sns\n",
    "%matplotlib inline\n",
    "\n",
    "import pandas\n",
    "%load_ext autoreload\n",
    "%autoreload 2"
   ]
  },
  {
   "cell_type": "code",
   "execution_count": 35,
   "metadata": {
    "scrolled": false
   },
   "outputs": [
    {
     "name": "stderr",
     "output_type": "stream",
     "text": [
      "2019-06-25 21:23:31.515 INFO in 'deeppavlov.models.embedders.glove_embedder'['glove_embedder'] at line 52: [loading GloVe embeddings from `/Users/svo6059/PycharmProjects/CISS_Project/data/models/glove.txt`]\n",
      "/usr/local/anaconda3/envs/pavlov/lib/python3.6/site-packages/smart_open/smart_open_lib.py:398: UserWarning: This function is deprecated, use smart_open.open instead. See the migration notes for details: https://github.com/RaRe-Technologies/smart_open/blob/master/README.rst#migrating-to-the-new-open-function\n",
      "  'See the migration notes for details: %s' % _MIGRATION_NOTES_URL\n"
     ]
    }
   ],
   "source": [
    "from deeppavlov.models.embedders.glove_embedder import GloVeEmbedder\n",
    "\n",
    "embedder = GloVeEmbedder(load_path=\"data/models/glove.txt\", \n",
    "                         pad_zero=False  # means whether to pad up to the longest sample in a batch\n",
    "                    )"
   ]
  },
  {
   "cell_type": "markdown",
   "metadata": {},
   "source": [
    "## Functions "
   ]
  },
  {
   "cell_type": "markdown",
   "metadata": {},
   "source": [
    "### Generator "
   ]
  },
  {
   "cell_type": "code",
   "execution_count": 8,
   "metadata": {},
   "outputs": [],
   "source": [
    "import tensorflow as tf"
   ]
  },
  {
   "cell_type": "markdown",
   "metadata": {},
   "source": [
    "### Sklearn "
   ]
  },
  {
   "cell_type": "code",
   "execution_count": 156,
   "metadata": {},
   "outputs": [],
   "source": [
    "class GloVeWord(TransformerMixin):\n",
    "    def __init__(self, max_size=None):\n",
    "        if max_size is None:\n",
    "            self.fit_size = True\n",
    "            self.max_size = None\n",
    "        else:\n",
    "            self.fit_size = True\n",
    "            self.max_size = max_size\n",
    "            self.max_size = max([len(x for x in X)])\n",
    "            \n",
    "    def fit(self, X, y):\n",
    "        if type(X[0]) is not str:\n",
    "            \n",
    "        if self.fit_size:\n",
    "            \n",
    "        \n",
    "    def transform(self):\n",
    "        \n",
    "\n",
    "class AverageSentence(TransformerMixin):\n",
    "    \"\"\"\n",
    "    Applies glove embeddings\n",
    "    \n",
    "    Parameters\n",
    "    ----------\n",
    "    method : string\n",
    "        possible methods are 'concat' and 'average'\n",
    "    \"\"\"\n",
    "    def __init__(self, embedding, method='concat'):\n",
    "        self.method = method\n",
    "        \n",
    "    def fit(self, X, y=None):\n",
    "        assert type(X[0]) is not str\n",
    "        self.max_size = max([len(x for x in X)])\n",
    "        return self\n",
    "    def transform(self, X, y=None):\n",
    "        assert type(X[0]) is not str\n",
    "        emb = embedder(X)\n",
    "        if self.method == 'concat':\n",
    "            return emb.reshape(X.shape[0], -1)\n",
    "        elif self.method == 'average':\n",
    "            return emb.mean(axis=1)\n",
    "        else:\n",
    "            raise NotImplementedError\n",
    "            \n",
    "class ConditionalEmbedding(TransformerMixin):\n",
    "    \"\"\"\n",
    "    \n",
    "    \"\"\""
   ]
  },
  {
   "cell_type": "markdown",
   "metadata": {},
   "source": [
    "## Data loading"
   ]
  },
  {
   "cell_type": "code",
   "execution_count": 11,
   "metadata": {},
   "outputs": [],
   "source": [
    "train = pd.read_json('data/train.json')\n",
    "dev = pd.read_json('data/dev.json')"
   ]
  },
  {
   "cell_type": "code",
   "execution_count": 12,
   "metadata": {},
   "outputs": [
    {
     "name": "stdout",
     "output_type": "stream",
     "text": [
      "(457135, 5)\n",
      "(54876, 5)\n"
     ]
    }
   ],
   "source": [
    "print(train.shape)\n",
    "print(dev.shape)"
   ]
  },
  {
   "cell_type": "code",
   "execution_count": null,
   "metadata": {},
   "outputs": [],
   "source": [
    "train_sent_glove = embedder(train.sentence.str.split().apply(lambda l: l[:50]))\n",
    "train_question_glove = embedder(train.question.str.split().apply(lambda l: l[:30])))\n",
    "print('train_sent shape:', train_sent_glove.shape)\n",
    "print('train_question shape:', train_question_glove.shape)\n",
    "\n",
    "dev_sent_glove = embedder(dev.sentence.str.split())\n",
    "dev_question_glove = embedder(dev.question.str.split())\n",
    "print('dev_sent shape:', dev_sent_glove.shape)\n",
    "print('dev_question shape:', dev_question_glove.shape)"
   ]
  },
  {
   "cell_type": "markdown",
   "metadata": {},
   "source": [
    "# Body"
   ]
  },
  {
   "cell_type": "code",
   "execution_count": 15,
   "metadata": {},
   "outputs": [],
   "source": [
    "from nltk import word_tokenize"
   ]
  },
  {
   "cell_type": "code",
   "execution_count": null,
   "metadata": {},
   "outputs": [],
   "source": [
    "word_tokenize()"
   ]
  },
  {
   "cell_type": "markdown",
   "metadata": {},
   "source": [
    "## Tokenize"
   ]
  },
  {
   "cell_type": "code",
   "execution_count": null,
   "metadata": {},
   "outputs": [],
   "source": [
    "%%time\n",
    "train['sentence'] = train.sentence.apply(word_tokenize)\n",
    "train['question'] = train.question.apply(word_tokenize)"
   ]
  },
  {
   "cell_type": "code",
   "execution_count": 69,
   "metadata": {},
   "outputs": [
    {
     "name": "stdout",
     "output_type": "stream",
     "text": [
      "CPU times: user 2 µs, sys: 1e+03 ns, total: 3 µs\n",
      "Wall time: 8.82 µs\n"
     ]
    }
   ],
   "source": [
    "%time\n",
    "dev['sentence'] = dev.sentence.apply(word_tokenize)\n",
    "dev['question'] = dev.question.apply(word_tokenize)"
   ]
  },
  {
   "cell_type": "code",
   "execution_count": 22,
   "metadata": {},
   "outputs": [
    {
     "data": {
      "text/plain": [
       "(0, 70)"
      ]
     },
     "execution_count": 22,
     "metadata": {},
     "output_type": "execute_result"
    },
    {
     "data": {
      "image/png": "[encoded data removed]",
      "text/plain": [
       "<Figure size 432x288 with 1 Axes>"
      ]
     },
     "metadata": {
      "needs_background": "light"
     },
     "output_type": "display_data"
    }
   ],
   "source": [
    "train.sentence.apply(len).value_counts().sort_index().plot()\n",
    "train.question.apply(len).value_counts().sort_index().plot()\n",
    "plt.xlim(0,70)"
   ]
  },
  {
   "cell_type": "markdown",
   "metadata": {},
   "source": [
    "## Test generator"
   ]
  },
  {
   "cell_type": "code",
   "execution_count": 85,
   "metadata": {},
   "outputs": [],
   "source": [
    "from sklearn.metrics import precision_score"
   ]
  },
  {
   "cell_type": "code",
   "execution_count": null,
   "metadata": {},
   "outputs": [],
   "source": [
    "from keras_metrics import binary_f1_score, binary_precision"
   ]
  },
  {
   "cell_type": "code",
   "execution_count": 36,
   "metadata": {},
   "outputs": [],
   "source": [
    "s = embedder(train.head(6).sentence)"
   ]
  },
  {
   "cell_type": "markdown",
   "metadata": {},
   "source": [
    "### Shallow model"
   ]
  },
  {
   "cell_type": "code",
   "execution_count": 96,
   "metadata": {},
   "outputs": [],
   "source": [
    "inp = tf.keras.layers.Input((200,))\n",
    "x = tf.keras.layers.Dense(50, activation='relu')(inp)\n",
    "out = tf.keras.layers.Dense(1, activation='sigmoid')(x)\n",
    "\n",
    "model = tf.keras.Model(inputs=inp, outputs=out)\n",
    "model.compile(optimizer='adam', loss='binary_crossentropy', metrics=['accuracy'])"
   ]
  },
  {
   "cell_type": "code",
   "execution_count": 97,
   "metadata": {},
   "outputs": [
    {
     "name": "stdout",
     "output_type": "stream",
     "text": [
      "Epoch 1/10\n",
      "857/857 [==============================] - 7s 8ms/step - loss: 0.4650 - acc: 0.7918\n",
      "7142/7142 [==============================] - 70s 10ms/step - loss: 0.4536 - acc: 0.8084 - val_loss: 0.4650 - val_acc: 0.7918\n",
      "Epoch 2/10\n",
      "857/857 [==============================] - 8s 9ms/step - loss: 0.4347 - acc: 0.8057\n",
      "7142/7142 [==============================] - 77s 11ms/step - loss: 0.4190 - acc: 0.8141 - val_loss: 0.4347 - val_acc: 0.8057\n",
      "Epoch 3/10\n",
      "857/857 [==============================] - 8s 9ms/step - loss: 0.4294 - acc: 0.8089\n",
      "7142/7142 [==============================] - 78s 11ms/step - loss: 0.4055 - acc: 0.8200 - val_loss: 0.4294 - val_acc: 0.8089\n",
      "Epoch 4/10\n",
      "857/857 [==============================] - 8s 9ms/step - loss: 0.4256 - acc: 0.8110\n",
      "7142/7142 [==============================] - 77s 11ms/step - loss: 0.3975 - acc: 0.8240 - val_loss: 0.4256 - val_acc: 0.8110\n",
      "Epoch 5/10\n",
      "857/857 [==============================] - 8s 9ms/step - loss: 0.4236 - acc: 0.8131\n",
      "7142/7142 [==============================] - 77s 11ms/step - loss: 0.3931 - acc: 0.8269 - val_loss: 0.4236 - val_acc: 0.8131\n",
      "Epoch 6/10\n",
      "857/857 [==============================] - 8s 9ms/step - loss: 0.4200 - acc: 0.8151\n",
      "7142/7142 [==============================] - 76s 11ms/step - loss: 0.3894 - acc: 0.8286 - val_loss: 0.4200 - val_acc: 0.8151\n",
      "Epoch 7/10\n",
      "857/857 [==============================] - 8s 9ms/step - loss: 0.4158 - acc: 0.8185\n",
      "7142/7142 [==============================] - 76s 11ms/step - loss: 0.3865 - acc: 0.8300 - val_loss: 0.4158 - val_acc: 0.8185\n",
      "Epoch 8/10\n",
      "857/857 [==============================] - 8s 9ms/step - loss: 0.4180 - acc: 0.8172\n",
      "7142/7142 [==============================] - 76s 11ms/step - loss: 0.3840 - acc: 0.8313 - val_loss: 0.4180 - val_acc: 0.8172\n",
      "Epoch 9/10\n",
      "857/857 [==============================] - 8s 9ms/step - loss: 0.4139 - acc: 0.8200\n",
      "7142/7142 [==============================] - 77s 11ms/step - loss: 0.3823 - acc: 0.8322 - val_loss: 0.4139 - val_acc: 0.8200\n",
      "Epoch 10/10\n",
      "857/857 [==============================] - 8s 9ms/step - loss: 0.4167 - acc: 0.8178\n",
      "7142/7142 [==============================] - 77s 11ms/step - loss: 0.3803 - acc: 0.8333 - val_loss: 0.4167 - val_acc: 0.8178\n"
     ]
    }
   ],
   "source": [
    "BATCH_SIZE = 64\n",
    "epoch_steps = train.shape[0]//BATCH_SIZE\n",
    "val_steps = dev.shape[0]//BATCH_SIZE\n",
    "gen = glove_generator(train, BATCH_SIZE, embedder=embedder)\n",
    "\n",
    "history = model.fit_generator(gen, steps_per_epoch=epoch_steps, epochs=10, \n",
    "                   validation_data = glove_generator(dev, BATCH_SIZE, embedder=embedder), \n",
    "                              validation_steps = val_steps)"
   ]
  },
  {
   "cell_type": "code",
   "execution_count": 100,
   "metadata": {},
   "outputs": [
    {
     "data": {
      "image/png": "[encoded data removed]",
      "text/plain": [
       "<Figure size 432x288 with 1 Axes>"
      ]
     },
     "metadata": {
      "needs_background": "light"
     },
     "output_type": "display_data"
    },
    {
     "data": {
      "image/png": "[encoded data removed]",
      "text/plain": [
       "<Figure size 432x288 with 1 Axes>"
      ]
     },
     "metadata": {
      "needs_background": "light"
     },
     "output_type": "display_data"
    }
   ],
   "source": [
    "import matplotlib.pyplot as plt\n",
    "# Plot training & validation accuracy values\n",
    "plt.plot(history.history['acc'])\n",
    "plt.plot(history.history['val_acc'])\n",
    "plt.title('Model accuracy')\n",
    "plt.ylabel('Accuracy')\n",
    "plt.xlabel('Epoch')\n",
    "plt.legend(['Train', 'Test'], loc='upper left')\n",
    "plt.show()\n",
    "\n",
    "# Plot training & validation loss values\n",
    "plt.plot(history.history['loss'])\n",
    "plt.plot(history.history['val_loss'])\n",
    "plt.title('Model loss')\n",
    "plt.ylabel('Loss')\n",
    "plt.xlabel('Epoch')\n",
    "plt.legend(['Train', 'Test'], loc='upper left')\n",
    "plt.show()"
   ]
  },
  {
   "cell_type": "markdown",
   "metadata": {},
   "source": [
    "## Predict if is correct "
   ]
  },
  {
   "cell_type": "code",
   "execution_count": 177,
   "metadata": {},
   "outputs": [
    {
     "name": "stdout",
     "output_type": "stream",
     "text": [
      "CPU times: user 3.07 s, sys: 491 ms, total: 3.56 s\n",
      "Wall time: 3.7 s\n"
     ]
    }
   ],
   "source": [
    "question = embedder(data.question.str.split().values[:1000])\n",
    "%time possible_answer = embedder(data.sentence.str.split().values[:10000])"
   ]
  },
  {
   "cell_type": "code",
   "execution_count": 147,
   "metadata": {},
   "outputs": [
    {
     "name": "stdout",
     "output_type": "stream",
     "text": [
      "CPU times: user 3.56 s, sys: 324 ms, total: 3.88 s\n",
      "Wall time: 3.88 s\n"
     ]
    }
   ],
   "source": [
    "%time sent_sizes = data.sentence.str.split().apply(len).value_counts().sort_index()"
   ]
  },
  {
   "cell_type": "code",
   "execution_count": null,
   "metadata": {},
   "outputs": [],
   "source": [
    "sent = data.sentence.str.split()"
   ]
  },
  {
   "cell_type": "code",
   "execution_count": 181,
   "metadata": {},
   "outputs": [],
   "source": [
    "import pickle"
   ]
  },
  {
   "cell_type": "code",
   "execution_count": null,
   "metadata": {},
   "outputs": [],
   "source": [
    "pickle.dump"
   ]
  },
  {
   "cell_type": "code",
   "execution_count": 180,
   "metadata": {
    "scrolled": true
   },
   "outputs": [
    {
     "data": {
      "text/plain": [
       "0.37997961044311523"
      ]
     },
     "execution_count": 180,
     "metadata": {},
     "output_type": "execute_result"
    }
   ],
   "source": [
    "possible_answer.nbytes/(2**30)"
   ]
  },
  {
   "cell_type": "code",
   "execution_count": 170,
   "metadata": {},
   "outputs": [
    {
     "name": "stdout",
     "output_type": "stream",
     "text": [
      "<class 'pandas.core.frame.DataFrame'>\n",
      "RangeIndex: 457135 entries, 0 to 457134\n",
      "Data columns (total 1 columns):\n",
      "sentence    457135 non-null object\n",
      "dtypes: object(1)\n",
      "memory usage: 3.5+ MB\n"
     ]
    }
   ],
   "source": [
    "pd.DataFrame(sent).info()"
   ]
  },
  {
   "cell_type": "code",
   "execution_count": 129,
   "metadata": {},
   "outputs": [],
   "source": [
    "from sklearn.model_selection import cross_validate"
   ]
  },
  {
   "cell_type": "markdown",
   "metadata": {},
   "source": [
    "## Embedding visualization "
   ]
  },
  {
   "cell_type": "code",
   "execution_count": 62,
   "metadata": {},
   "outputs": [],
   "source": [
    "X = data.sentence[:10000].values"
   ]
  },
  {
   "cell_type": "code",
   "execution_count": 59,
   "metadata": {},
   "outputs": [],
   "source": [
    "proj = make_pipeline(GloVe(), PCA(10), TSNE())"
   ]
  },
  {
   "cell_type": "code",
   "execution_count": 76,
   "metadata": {},
   "outputs": [
    {
     "name": "stdout",
     "output_type": "stream",
     "text": [
      "CPU times: user 4.2 s, sys: 745 ms, total: 4.95 s\n",
      "Wall time: 4.96 s\n"
     ]
    }
   ],
   "source": [
    "%time xp = GloVeSentence().fit(X).transform(X)"
   ]
  },
  {
   "cell_type": "code",
   "execution_count": 77,
   "metadata": {},
   "outputs": [
    {
     "name": "stdout",
     "output_type": "stream",
     "text": [
      "CPU times: user 35.8 s, sys: 5.53 s, total: 41.3 s\n",
      "Wall time: 15.5 s\n"
     ]
    }
   ],
   "source": [
    "%time xp = PCA(10).fit(xp).transform(xp)"
   ]
  },
  {
   "cell_type": "code",
   "execution_count": 80,
   "metadata": {},
   "outputs": [
    {
     "name": "stdout",
     "output_type": "stream",
     "text": [
      "CPU times: user 2min 48s, sys: 17 s, total: 3min 5s\n",
      "Wall time: 3min 5s\n"
     ]
    },
    {
     "data": {
      "text/plain": [
       "TSNE(angle=0.5, early_exaggeration=12.0, init='random', learning_rate=200.0,\n",
       "   method='barnes_hut', metric='euclidean', min_grad_norm=1e-07,\n",
       "   n_components=2, n_iter=1000, n_iter_without_progress=300,\n",
       "   perplexity=30.0, random_state=None, verbose=0)"
      ]
     },
     "execution_count": 80,
     "metadata": {},
     "output_type": "execute_result"
    }
   ],
   "source": [
    "tsne = TSNE()\n",
    "%time tsne.fit(xp)"
   ]
  },
  {
   "cell_type": "code",
   "execution_count": 108,
   "metadata": {},
   "outputs": [
    {
     "data": {
      "text/html": [
       "<div>\n",
       "<style scoped>\n",
       "    .dataframe tbody tr th:only-of-type {\n",
       "        vertical-align: middle;\n",
       "    }\n",
       "\n",
       "    .dataframe tbody tr th {\n",
       "        vertical-align: top;\n",
       "    }\n",
       "\n",
       "    .dataframe thead th {\n",
       "        text-align: right;\n",
       "    }\n",
       "</style>\n",
       "<table border=\"1\" class=\"dataframe\">\n",
       "  <thead>\n",
       "    <tr style=\"text-align: right;\">\n",
       "      <th></th>\n",
       "      <th>label</th>\n",
       "      <th>question</th>\n",
       "      <th>sentence</th>\n",
       "    </tr>\n",
       "  </thead>\n",
       "  <tbody>\n",
       "    <tr>\n",
       "      <th>6</th>\n",
       "      <td>0</td>\n",
       "      <td>To whom did the Virgin Mary allegedly appear i...</td>\n",
       "      <td>At the end of the main drive (and in a direct ...</td>\n",
       "    </tr>\n",
       "    <tr>\n",
       "      <th>13</th>\n",
       "      <td>0</td>\n",
       "      <td>What is in front of the Notre Dame Main Building?</td>\n",
       "      <td>At the end of the main drive (and in a direct ...</td>\n",
       "    </tr>\n",
       "    <tr>\n",
       "      <th>20</th>\n",
       "      <td>0</td>\n",
       "      <td>The Basilica of the Sacred heart at Notre Dame...</td>\n",
       "      <td>At the end of the main drive (and in a direct ...</td>\n",
       "    </tr>\n",
       "    <tr>\n",
       "      <th>27</th>\n",
       "      <td>0</td>\n",
       "      <td>What is the Grotto at Notre Dame?</td>\n",
       "      <td>At the end of the main drive (and in a direct ...</td>\n",
       "    </tr>\n",
       "    <tr>\n",
       "      <th>34</th>\n",
       "      <td>0</td>\n",
       "      <td>What sits on top of the Main Building at Notre...</td>\n",
       "      <td>At the end of the main drive (and in a direct ...</td>\n",
       "    </tr>\n",
       "  </tbody>\n",
       "</table>\n",
       "</div>"
      ],
      "text/plain": [
       "    label                                           question  \\\n",
       "6       0  To whom did the Virgin Mary allegedly appear i...   \n",
       "13      0  What is in front of the Notre Dame Main Building?   \n",
       "20      0  The Basilica of the Sacred heart at Notre Dame...   \n",
       "27      0                  What is the Grotto at Notre Dame?   \n",
       "34      0  What sits on top of the Main Building at Notre...   \n",
       "\n",
       "                                             sentence  \n",
       "6   At the end of the main drive (and in a direct ...  \n",
       "13  At the end of the main drive (and in a direct ...  \n",
       "20  At the end of the main drive (and in a direct ...  \n",
       "27  At the end of the main drive (and in a direct ...  \n",
       "34  At the end of the main drive (and in a direct ...  "
      ]
     },
     "execution_count": 108,
     "metadata": {},
     "output_type": "execute_result"
    }
   ],
   "source": [
    "data[data.sentence.str.contains('At the end of the main drive ')]"
   ]
  },
  {
   "cell_type": "code",
   "execution_count": 103,
   "metadata": {},
   "outputs": [
    {
     "data": {
      "image/png": "[encoded data removed]",
      "text/plain": [
       "<Figure size 432x288 with 1 Axes>"
      ]
     },
     "metadata": {
      "needs_background": "light"
     },
     "output_type": "display_data"
    }
   ],
   "source": [
    "fig, ax = plt.subplots(figsize=(6,4))\n",
    "ax.scatter(tsne.embedding_[:,0], tsne.embedding_[:,1], s=10)\n",
    "ax.set_axis_off()"
   ]
  },
  {
   "cell_type": "code",
   "execution_count": 122,
   "metadata": {},
   "outputs": [],
   "source": [
    "first_doc = data[data.doc_number==0]"
   ]
  }
 ],
 "metadata": {
  "hide_input": false,
  "kernelspec": {
   "display_name": "Python [conda env:pavlov] *",
   "language": "python",
   "name": "conda-env-pavlov-py"
  },
  "language_info": {
   "codemirror_mode": {
    "name": "ipython",
    "version": 3
   },
   "file_extension": ".py",
   "mimetype": "text/x-python",
   "name": "python",
   "nbconvert_exporter": "python",
   "pygments_lexer": "ipython3",
   "version": "3.6.8"
  },
  "toc": {
   "base_numbering": 1,
   "nav_menu": {},
   "number_sections": true,
   "sideBar": true,
   "skip_h1_title": false,
   "title_cell": "Table of Contents",
   "title_sidebar": "Contents",
   "toc_cell": false,
   "toc_position": {
    "height": "calc(100% - 180px)",
    "left": "10px",
    "top": "150px",
    "width": "320px"
   },
   "toc_section_display": true,
   "toc_window_display": true
  }
 },
 "nbformat": 4,
 "nbformat_minor": 2
}
